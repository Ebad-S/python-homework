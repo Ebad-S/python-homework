{
 "cells": [
  {
   "cell_type": "code",
   "execution_count": null,
   "id": "ea86eceb-456b-4850-afbc-29815ebc2601",
   "metadata": {},
   "outputs": [],
   "source": [
    "\"\"\"\n",
    "PyBank Homework\n",
    "Ebad Salehi\n",
    "\"\"\""
   ]
  },
  {
   "cell_type": "code",
   "execution_count": 55,
   "id": "0ce3035b-7f70-4086-a17b-93ffa427849f",
   "metadata": {},
   "outputs": [],
   "source": [
    "# Import the pathlib and csv library\n",
    "from pathlib import Path\n",
    "import csv\n",
    "\n",
    "# Set the file path\n",
    "csv_path = Path('../Resources/budget_data.csv')"
   ]
  },
  {
   "cell_type": "code",
   "execution_count": 56,
   "id": "917d4ef9-9fb9-4e6f-97f5-2a5e291bfffd",
   "metadata": {},
   "outputs": [],
   "source": [
    "#set variables\n",
    "total_months= 0\n",
    "month_of_change = []\n",
    "net_change_list = []\n",
    "greatest_increase = [\"\", 0]\n",
    "greatest_decrease = [\"\", 9999999]\n",
    "total_net = 0\n",
    "sum_net_change = 0"
   ]
  },
  {
   "cell_type": "code",
   "execution_count": 57,
   "id": "0b2c1a82-d88c-4f89-8e66-db94a1f7b9ad",
   "metadata": {},
   "outputs": [],
   "source": [
    "# Open the csv file as an object (skipping the headers)\n",
    "with open(csv_path, 'r') as csvfile:    \n",
    "    # (with ',' as the delmiter/separator) and return the csvreader object\n",
    "    csvreader = csv.reader(csvfile, delimiter=',')      \n",
    "    \n",
    "    # Read the header row first (skip this step if there is no header)\n",
    "    csv_header = next(csvreader)\n",
    "    first_row = next(csvreader)\n",
    "    prv_net = int(first_row[1])\n",
    "    total_months = total_months +1\n",
    "    total_net = total_net + prv_net \n",
    "    \n",
    "    # Read each row of data after the header\n",
    "    for row in csvreader:\n",
    "        total_months = total_months +1\n",
    "        total_net = total_net + int(row[1])\n",
    "        net_change = int(row[1]) - prv_net\n",
    "        prv_net = int(row[1])        \n",
    "        net_change_list.append(net_change)\n",
    "        month_of_change.append(row[0])\n",
    "        \n",
    "        #calculate the greatest increase\n",
    "        if net_change > greatest_increase[1]:\n",
    "            greatest_increase[0] = row[0]\n",
    "            greatest_increase[1] = net_change\n",
    "\n",
    "        #Calculate the greatest decrease\n",
    "        if net_change < greatest_decrease[1]:\n",
    "            greatest_decrease[0] = row[0]\n",
    "            greatest_decrease[1] = net_change"
   ]
  },
  {
   "cell_type": "code",
   "execution_count": 58,
   "id": "8d4e135e-02a3-4a7e-b33d-f6650e2dfbec",
   "metadata": {},
   "outputs": [
    {
     "name": "stdout",
     "output_type": "stream",
     "text": [
      "-2315.12\n"
     ]
    }
   ],
   "source": [
    "#Calculate average change \n",
    "net_monthly_avg = round (sum(net_change_list)/len(net_change_list), 2)\n",
    "print(net_monthly_avg)"
   ]
  },
  {
   "cell_type": "code",
   "execution_count": 59,
   "id": "7236db72-a6ad-4595-a275-00fb5a35c548",
   "metadata": {},
   "outputs": [],
   "source": [
    "#Results Analysis\n",
    "with open(\"./OUTPUT.txt\", \"w\") as output:\n",
    "    output.write(f\"Financial Analysis\\n\")\n",
    "    output.write(f\"----------------------------\\n\")\n",
    "    output.write(f\"Total Months: {total_months}\\n\")\n",
    "    output.write(f\"Total: ${total_net}\\n\")\n",
    "    output.write(f\"Average Change: ${net_monthly_avg}\\n\")\n",
    "    output.write(f\"Greatest Increase in Profits: {greatest_increase[0]} (${greatest_increase[1]})\\n\")\n",
    "    output.write(f\"Greatest Decrease in Profits: {greatest_decrease[0]} (${greatest_decrease[1]})\\n\")"
   ]
  },
  {
   "cell_type": "code",
   "execution_count": 60,
   "id": "a78eb0ef-f5de-4991-b2b2-1052cfdf474c",
   "metadata": {},
   "outputs": [
    {
     "data": {
      "text/plain": [
       "86"
      ]
     },
     "execution_count": 60,
     "metadata": {},
     "output_type": "execute_result"
    }
   ],
   "source": [
    "total_months"
   ]
  },
  {
   "cell_type": "code",
   "execution_count": 61,
   "id": "683442fb-2100-4369-a00c-a918b0b1c07a",
   "metadata": {},
   "outputs": [
    {
     "data": {
      "text/plain": [
       "38382578"
      ]
     },
     "execution_count": 61,
     "metadata": {},
     "output_type": "execute_result"
    }
   ],
   "source": [
    "total_net"
   ]
  },
  {
   "cell_type": "code",
   "execution_count": null,
   "id": "a964758a-0b2a-4fbf-a948-cb88198c7be6",
   "metadata": {},
   "outputs": [],
   "source": []
  }
 ],
 "metadata": {
  "kernelspec": {
   "display_name": "Python [conda env:alpacaenv]",
   "language": "python",
   "name": "conda-env-alpacaenv-py"
  },
  "language_info": {
   "codemirror_mode": {
    "name": "ipython",
    "version": 3
   },
   "file_extension": ".py",
   "mimetype": "text/x-python",
   "name": "python",
   "nbconvert_exporter": "python",
   "pygments_lexer": "ipython3",
   "version": "3.7.11"
  }
 },
 "nbformat": 4,
 "nbformat_minor": 5
}
